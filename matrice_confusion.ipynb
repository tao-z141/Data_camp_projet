{
  "cells": [
    {
      "cell_type": "code",
      "execution_count": 9,
      "metadata": {
        "id": "MyeM9--x6zor"
      },
      "outputs": [],
      "source": [
        "from sklearn.metrics import confusion_matrix\n",
        "from sklearn.metrics import classification_report\n",
        "import matplotlib.pyplot as plt\n",
        "import numpy as np\n",
        "import itertools\n",
        "import pandas \n"
      ]
    },
    {
      "cell_type": "code",
      "execution_count": 4,
      "metadata": {
        "colab": {
          "base_uri": "https://localhost:8080/"
        },
        "id": "IL7nOmQx8lcO",
        "outputId": "259887b6-f527-47b6-ab55-fe02281ed222"
      },
      "outputs": [
        {
          "name": "stdout",
          "output_type": "stream",
          "text": [
            "Collecting scikit-learn\n",
            "  Downloading scikit_learn-1.6.0-cp39-cp39-macosx_10_9_x86_64.whl\n",
            "\u001b[2K     \u001b[32m|\u001b[0m \u001b[32m12.1 MB\u001b[0m \u001b[31m17.6 MB/s\u001b[0m \u001b[33m0:00:00\u001b[0m0m\n",
            "\u001b[?25hCollecting scipy>=1.6.0\n",
            "  Downloading scipy-1.13.1-cp39-cp39-macosx_10_9_x86_64.whl\n",
            "\u001b[2K     \u001b[32m\\\u001b[0m \u001b[32m39.4 MB\u001b[0m \u001b[31m28.0 MB/s\u001b[0m \u001b[33m0:00:01\u001b[0m\n",
            "\u001b[?25hCollecting threadpoolctl>=3.1.0\n",
            "  Using cached threadpoolctl-3.5.0-py3-none-any.whl\n",
            "Collecting joblib>=1.2.0\n",
            "  Downloading joblib-1.4.2-py3-none-any.whl\n",
            "\u001b[2K     \u001b[32m-\u001b[0m \u001b[32m301.8 kB\u001b[0m \u001b[31m64.7 MB/s\u001b[0m \u001b[33m0:00:00\u001b[0m\n",
            "\u001b[?25hRequirement already satisfied: numpy>=1.19.5 in /Library/Frameworks/Python.framework/Versions/3.9/lib/python3.9/site-packages (from scikit-learn) (1.23.3)\n",
            "Installing collected packages: threadpoolctl, scipy, joblib, scikit-learn\n",
            "Successfully installed joblib-1.4.2 scikit-learn-1.6.0 scipy-1.13.1 threadpoolctl-3.5.0\n",
            "\n",
            "\u001b[1m[\u001b[0m\u001b[34;49mnotice\u001b[0m\u001b[1;39;49m]\u001b[0m\u001b[39;49m A new release of pip available: \u001b[0m\u001b[31;49m22.3.1\u001b[0m\u001b[39;49m -> \u001b[0m\u001b[32;49m24.3.1\u001b[0m\n",
            "\u001b[1m[\u001b[0m\u001b[34;49mnotice\u001b[0m\u001b[1;39;49m]\u001b[0m\u001b[39;49m To update, run: \u001b[0m\u001b[32;49mpython3.9 -m pip install --upgrade pip\u001b[0m\n",
            "Note: you may need to restart the kernel to use updated packages.\n"
          ]
        }
      ],
      "source": [
        "pip install scikit-learn --trusted-host files.pythonhosted.org --trusted-host pypi.org --trusted-host pypi.python.org"
      ]
    },
    {
      "cell_type": "code",
      "execution_count": 20,
      "metadata": {
        "colab": {
          "base_uri": "https://localhost:8080/",
          "height": 73
        },
        "id": "T8KAY_iY7W19",
        "outputId": "9d7d5e5e-dad5-4fa0-94c8-014c65d11c49"
      },
      "outputs": [
        {
          "data": {
            "text/plain": [
              "0    5\n",
              "1    5\n",
              "2    5\n",
              "3    5\n",
              "4    5\n",
              "5    3\n",
              "6    5\n",
              "7    5\n",
              "8    5\n",
              "9    3\n",
              "Name: Note, dtype: int64"
            ]
          },
          "execution_count": 20,
          "metadata": {},
          "output_type": "execute_result"
        }
      ],
      "source": [
        "files = pandas.read_csv('Gold/prediction.csv')\n",
        "\n",
        "actual_values = files[\"Note\"]\n",
        "predicted_values = files[\"prediction_numerique\"]\n",
        "\n",
        "actual_values.head(10)"
      ]
    },
    {
      "cell_type": "code",
      "execution_count": 28,
      "metadata": {
        "id": "riCclG6a7eKA"
      },
      "outputs": [
        {
          "data": {
            "text/plain": [
              "array([[  3,   0,   3,   0,   0],\n",
              "       [  0,   9,   0,   0,   0],\n",
              "       [  0,   7,   7,   2,   0],\n",
              "       [  0,   6,   6,  40,  18],\n",
              "       [  0,   8,  19, 111, 139]])"
            ]
          },
          "execution_count": 28,
          "metadata": {},
          "output_type": "execute_result"
        }
      ],
      "source": [
        "cnf_matrix = confusion_matrix(actual_values,predicted_values)\n",
        "\n",
        "cnf_matrix"
      ]
    },
    {
      "cell_type": "code",
      "execution_count": 30,
      "metadata": {
        "colab": {
          "base_uri": "https://localhost:8080/"
        },
        "id": "Mnyso5WV7kHa",
        "outputId": "65e2edcd-3b97-42a4-b736-4fa5f8a77240"
      },
      "outputs": [
        {
          "data": {
            "image/png": "[encoded data removed]",
            "text/plain": [
              "<Figure size 640x480 with 2 Axes>"
            ]
          },
          "metadata": {},
          "output_type": "display_data"
        },
        {
          "ename": "ValueError",
          "evalue": "too many values to unpack (expected 4)",
          "output_type": "error",
          "traceback": [
            "\u001b[0;31m---------------------------------------------------------------------------\u001b[0m",
            "\u001b[0;31mValueError\u001b[0m                                Traceback (most recent call last)",
            "Cell \u001b[0;32mIn [30], line 21\u001b[0m\n\u001b[1;32m     18\u001b[0m plt\u001b[38;5;241m.\u001b[39mshow()\n\u001b[1;32m     20\u001b[0m \u001b[38;5;66;03m# outcome values order in sklearn\u001b[39;00m\n\u001b[0;32m---> 21\u001b[0m tn, fp, fn ,tp \u001b[38;5;241m=\u001b[39m confusion_matrix(actual_values,predicted_values)\u001b[38;5;241m.\u001b[39mreshape(\u001b[38;5;241m-\u001b[39m\u001b[38;5;241m1\u001b[39m)\n\u001b[1;32m     22\u001b[0m \u001b[38;5;28mprint\u001b[39m(\u001b[38;5;124m'\u001b[39m\u001b[38;5;124mValeurs de TN, FP, FN, TP : \u001b[39m\u001b[38;5;130;01m\\n\u001b[39;00m\u001b[38;5;124m'\u001b[39m,tn, fp, fn, tp)\n\u001b[1;32m     24\u001b[0m \u001b[38;5;66;03m# classification report for precision, recall f1-score and accuracy\u001b[39;00m\n",
            "\u001b[0;31mValueError\u001b[0m: too many values to unpack (expected 4)"
          ]
        }
      ],
      "source": [
        "\n",
        "classes = range(1,6)\n",
        "plt.figure()\n",
        "\n",
        "plt.imshow(cnf_matrix, interpolation='nearest',cmap='Blues')\n",
        "plt.title(\"Matrice de confusion\")\n",
        "plt.colorbar()\n",
        "tick_marks = np.arange(len(classes))\n",
        "plt.xticks(tick_marks, classes)\n",
        "plt.yticks(tick_marks, classes)\n",
        "\n",
        "for i, j in itertools.product(range(cnf_matrix.shape[0]), range(cnf_matrix.shape[1])):\n",
        "    plt.text(j, i, cnf_matrix[i, j],\n",
        "             horizontalalignment=\"center\",\n",
        "             color=\"white\" if cnf_matrix[i, j] > ( cnf_matrix.max() / 2) else \"black\")\n",
        "\n",
        "plt.ylabel('Valeur réelle')\n",
        "plt.xlabel('valeurs prédites')\n",
        "plt.show()\n",
        "\n",
        "\n",
        "tn, fp, fn ,tp = confusion_matrix(actual_values,predicted_values).reshape(-1)\n",
        "print('Valeurs de TN, FP, FN, TP : \\n',tn, fp, fn, tp)"
      ]
    },
    {
      "cell_type": "code",
      "execution_count": 31,
      "metadata": {},
      "outputs": [
        {
          "name": "stdout",
          "output_type": "stream",
          "text": [
            "Rapport de Classification  : \n",
            "               precision    recall  f1-score   support\n",
            "\n",
            "           1       1.00      0.50      0.67         6\n",
            "           2       0.30      1.00      0.46         9\n",
            "           3       0.20      0.44      0.27        16\n",
            "           4       0.26      0.57      0.36        70\n",
            "           5       0.89      0.50      0.64       277\n",
            "\n",
            "    accuracy                           0.52       378\n",
            "   macro avg       0.53      0.60      0.48       378\n",
            "weighted avg       0.73      0.52      0.57       378\n",
            "\n"
          ]
        }
      ],
      "source": [
        "matrix = classification_report(actual_values,predicted_values)\n",
        "print('Rapport de Classification  :s \\n',matrix)"
      ]
    }
  ],
  "metadata": {
    "colab": {
      "provenance": []
    },
    "kernelspec": {
      "display_name": "Python 3.9.0b2 64-bit",
      "language": "python",
      "name": "python3"
    },
    "language_info": {
      "codemirror_mode": {
        "name": "ipython",
        "version": 3
      },
      "file_extension": ".py",
      "mimetype": "text/x-python",
      "name": "python",
      "nbconvert_exporter": "python",
      "pygments_lexer": "ipython3",
      "version": "3.9.0"
    },
    "vscode": {
      "interpreter": {
        "hash": "397704579725e15f5c7cb49fe5f0341eb7531c82d19f2c29d197e8b64ab5776b"
      }
    }
  },
  "nbformat": 4,
  "nbformat_minor": 0
}
